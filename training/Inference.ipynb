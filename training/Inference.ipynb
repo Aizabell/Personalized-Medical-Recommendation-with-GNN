{
  "nbformat": 4,
  "nbformat_minor": 0,
  "metadata": {
    "colab": {
      "provenance": [],
      "machine_shape": "hm"
    },
    "kernelspec": {
      "name": "python3",
      "display_name": "Python 3"
    },
    "language_info": {
      "name": "python"
    }
  },
  "cells": [
    {
      "cell_type": "code",
      "execution_count": null,
      "metadata": {
        "colab": {
          "base_uri": "https://localhost:8080/"
        },
        "id": "FtR3XKGtBCqA",
        "outputId": "da63ca9b-1972-4228-bd38-64c6516069cd"
      },
      "outputs": [
        {
          "output_type": "stream",
          "name": "stdout",
          "text": [
            "Collecting torch_geometric\n",
            "  Downloading torch_geometric-2.6.1-py3-none-any.whl.metadata (63 kB)\n",
            "\u001b[?25l     \u001b[90m━━━━━━━━━━━━━━━━━━━━━━━━━━━━━━━━━━━━━━━━\u001b[0m \u001b[32m0.0/63.1 kB\u001b[0m \u001b[31m?\u001b[0m eta \u001b[36m-:--:--\u001b[0m\r\u001b[2K     \u001b[90m━━━━━━━━━━━━━━━━━━━━━━━━━━━━━━━━━━━━━━━━\u001b[0m \u001b[32m63.1/63.1 kB\u001b[0m \u001b[31m3.2 MB/s\u001b[0m eta \u001b[36m0:00:00\u001b[0m\n",
            "\u001b[?25hRequirement already satisfied: aiohttp in /usr/local/lib/python3.11/dist-packages (from torch_geometric) (3.11.15)\n",
            "Requirement already satisfied: fsspec in /usr/local/lib/python3.11/dist-packages (from torch_geometric) (2025.3.2)\n",
            "Requirement already satisfied: jinja2 in /usr/local/lib/python3.11/dist-packages (from torch_geometric) (3.1.6)\n",
            "Requirement already satisfied: numpy in /usr/local/lib/python3.11/dist-packages (from torch_geometric) (2.0.2)\n",
            "Requirement already satisfied: psutil>=5.8.0 in /usr/local/lib/python3.11/dist-packages (from torch_geometric) (5.9.5)\n",
            "Requirement already satisfied: pyparsing in /usr/local/lib/python3.11/dist-packages (from torch_geometric) (3.2.3)\n",
            "Requirement already satisfied: requests in /usr/local/lib/python3.11/dist-packages (from torch_geometric) (2.32.3)\n",
            "Requirement already satisfied: tqdm in /usr/local/lib/python3.11/dist-packages (from torch_geometric) (4.67.1)\n",
            "Requirement already satisfied: aiohappyeyeballs>=2.3.0 in /usr/local/lib/python3.11/dist-packages (from aiohttp->torch_geometric) (2.6.1)\n",
            "Requirement already satisfied: aiosignal>=1.1.2 in /usr/local/lib/python3.11/dist-packages (from aiohttp->torch_geometric) (1.3.2)\n",
            "Requirement already satisfied: attrs>=17.3.0 in /usr/local/lib/python3.11/dist-packages (from aiohttp->torch_geometric) (25.3.0)\n",
            "Requirement already satisfied: frozenlist>=1.1.1 in /usr/local/lib/python3.11/dist-packages (from aiohttp->torch_geometric) (1.5.0)\n",
            "Requirement already satisfied: multidict<7.0,>=4.5 in /usr/local/lib/python3.11/dist-packages (from aiohttp->torch_geometric) (6.4.3)\n",
            "Requirement already satisfied: propcache>=0.2.0 in /usr/local/lib/python3.11/dist-packages (from aiohttp->torch_geometric) (0.3.1)\n",
            "Requirement already satisfied: yarl<2.0,>=1.17.0 in /usr/local/lib/python3.11/dist-packages (from aiohttp->torch_geometric) (1.19.0)\n",
            "Requirement already satisfied: MarkupSafe>=2.0 in /usr/local/lib/python3.11/dist-packages (from jinja2->torch_geometric) (3.0.2)\n",
            "Requirement already satisfied: charset-normalizer<4,>=2 in /usr/local/lib/python3.11/dist-packages (from requests->torch_geometric) (3.4.1)\n",
            "Requirement already satisfied: idna<4,>=2.5 in /usr/local/lib/python3.11/dist-packages (from requests->torch_geometric) (3.10)\n",
            "Requirement already satisfied: urllib3<3,>=1.21.1 in /usr/local/lib/python3.11/dist-packages (from requests->torch_geometric) (2.3.0)\n",
            "Requirement already satisfied: certifi>=2017.4.17 in /usr/local/lib/python3.11/dist-packages (from requests->torch_geometric) (2025.1.31)\n",
            "Downloading torch_geometric-2.6.1-py3-none-any.whl (1.1 MB)\n",
            "\u001b[2K   \u001b[90m━━━━━━━━━━━━━━━━━━━━━━━━━━━━━━━━━━━━━━━━\u001b[0m \u001b[32m1.1/1.1 MB\u001b[0m \u001b[31m28.2 MB/s\u001b[0m eta \u001b[36m0:00:00\u001b[0m\n",
            "\u001b[?25hInstalling collected packages: torch_geometric\n",
            "Successfully installed torch_geometric-2.6.1\n"
          ]
        }
      ],
      "source": [
        "!pip install torch_geometric"
      ]
    },
    {
      "cell_type": "code",
      "source": [
        "import os\n",
        "import joblib\n",
        "import numpy as np\n",
        "\n",
        "import torch\n",
        "from torch_geometric.data import HeteroData"
      ],
      "metadata": {
        "id": "ppye0oNkBQOQ"
      },
      "execution_count": null,
      "outputs": []
    },
    {
      "cell_type": "code",
      "source": [
        "data = torch.load(\"/content/drive/MyDrive/AIT/ML/Project/personalized_medical_recommendation/preprocessing/processed_graph.pt\", weights_only=False)\n",
        "\n",
        "ckpt_path = \"/content/drive/MyDrive/AIT/ML/Project/personalized_medical_recommendation/checkpoints\""
      ],
      "metadata": {
        "id": "K5ZqPVkbBcWP"
      },
      "execution_count": null,
      "outputs": []
    },
    {
      "cell_type": "code",
      "source": [
        "# Device configuration\n",
        "device = torch.device(\"cuda\" if torch.cuda.is_available() else \"cpu\")"
      ],
      "metadata": {
        "id": "SavDm0oRDZWg"
      },
      "execution_count": null,
      "outputs": []
    },
    {
      "cell_type": "code",
      "source": [
        "import torch.nn as nn\n",
        "import torch.nn.functional as F\n",
        "from torch_geometric.nn import HeteroConv, SAGEConv\n",
        "\n",
        "class HeteroSAGELinkPredictor(nn.Module):\n",
        "    def __init__(self, metadata, output_dims, hidden_channels=64, out_channels=32):\n",
        "        super().__init__()\n",
        "\n",
        "        # Message passing layers\n",
        "        self.conv1 = HeteroConv({\n",
        "            edge_type: SAGEConv((-1, -1), hidden_channels)\n",
        "            for edge_type in metadata[1]\n",
        "        }, aggr='sum')\n",
        "\n",
        "        self.conv2 = HeteroConv({\n",
        "            edge_type: SAGEConv((hidden_channels, hidden_channels), out_channels)\n",
        "            for edge_type in metadata[1]\n",
        "        }, aggr='sum')\n",
        "\n",
        "        # NEW: MLP that maps raw patient features → same space as GNN\n",
        "        self.patient_encoder = nn.Sequential(\n",
        "            nn.Linear(44, hidden_channels),\n",
        "            nn.ReLU(),\n",
        "            nn.Linear(hidden_channels, out_channels)\n",
        "        )\n",
        "\n",
        "        # Decoder: combines patient, medication, and optional context features\n",
        "        self.decoder = nn.Sequential(\n",
        "            nn.Linear(out_channels * 5, out_channels),\n",
        "            nn.ReLU(),\n",
        "            nn.Linear(out_channels, 1)\n",
        "        )\n",
        "\n",
        "    def forward(self, x_dict, edge_index_dict):\n",
        "        x_dict = self.conv1(x_dict, edge_index_dict)\n",
        "        x_dict = {k: F.relu(v) for k, v in x_dict.items()}\n",
        "        x_dict = self.conv2(x_dict, edge_index_dict)\n",
        "        return x_dict\n",
        "\n",
        "    def encode_patient(self, patient_features):\n",
        "        return self.patient_encoder(patient_features)\n",
        "\n",
        "    def decode(\n",
        "        self,\n",
        "        z_patient,\n",
        "        z_medication,\n",
        "        z_disease,\n",
        "        z_procedure,\n",
        "        z_lab,\n",
        "        edge_index,\n",
        "        disease_ids=None,\n",
        "        procedure_ids=None,\n",
        "        lab_ids=None,\n",
        "    ):\n",
        "        src, dst = edge_index\n",
        "\n",
        "        # Default to zero vectors if ids are None (i.e., for inference without all context)\n",
        "        def get_context_embeddings(z, ids):\n",
        "            if ids is None:\n",
        "                return torch.zeros_like(z_patient[src])\n",
        "            return z[ids]\n",
        "\n",
        "        disease_emb = get_context_embeddings(z_disease, disease_ids)\n",
        "        proc_emb    = get_context_embeddings(z_procedure, procedure_ids)\n",
        "        lab_emb     = get_context_embeddings(z_lab, lab_ids)\n",
        "\n",
        "        # Concatenate all embeddings\n",
        "        combined = torch.cat([\n",
        "            z_patient[src],\n",
        "            z_medication[dst],\n",
        "            disease_emb,\n",
        "            proc_emb,\n",
        "            lab_emb\n",
        "        ], dim=1)\n",
        "\n",
        "        return self.decoder(combined).squeeze()"
      ],
      "metadata": {
        "id": "mn6M0_NQByUw"
      },
      "execution_count": null,
      "outputs": []
    },
    {
      "cell_type": "code",
      "source": [
        "from torch_geometric.nn import HeteroConv, SAGEConv\n",
        "\n",
        "data = data.to(device)\n",
        "\n",
        "with torch.no_grad():\n",
        "    temp_conv1 = HeteroConv({\n",
        "        edge_type: SAGEConv((-1, -1), out_channels=64)\n",
        "        for edge_type in data.edge_types\n",
        "    }, aggr='sum').to(device)\n",
        "\n",
        "    temp_output = temp_conv1(data.x_dict, data.edge_index_dict)\n",
        "    output_dims = {node_type: feat.shape[1] for node_type, feat in temp_output.items()}"
      ],
      "metadata": {
        "id": "ynJtdp3MDUa4"
      },
      "execution_count": null,
      "outputs": []
    },
    {
      "cell_type": "code",
      "source": [
        "# Instantiate the model again with correct metadata and output dims\n",
        "model = HeteroSAGELinkPredictor(data.metadata(), output_dims=output_dims).to(device)\n",
        "\n",
        "# Load the best model weights\n",
        "model.load_state_dict(torch.load(os.path.join(ckpt_path, \"best_model_acc.pt\")))\n",
        "model.eval()  # Set to eval mode"
      ],
      "metadata": {
        "colab": {
          "base_uri": "https://localhost:8080/"
        },
        "id": "NqKMzGhkCob_",
        "outputId": "c676d95e-f64f-423d-dbff-996a58fcb8af"
      },
      "execution_count": null,
      "outputs": [
        {
          "output_type": "execute_result",
          "data": {
            "text/plain": [
              "HeteroSAGELinkPredictor(\n",
              "  (conv1): HeteroConv(num_relations=8)\n",
              "  (conv2): HeteroConv(num_relations=8)\n",
              "  (patient_encoder): Sequential(\n",
              "    (0): Linear(in_features=44, out_features=64, bias=True)\n",
              "    (1): ReLU()\n",
              "    (2): Linear(in_features=64, out_features=32, bias=True)\n",
              "  )\n",
              "  (decoder): Sequential(\n",
              "    (0): Linear(in_features=160, out_features=32, bias=True)\n",
              "    (1): ReLU()\n",
              "    (2): Linear(in_features=32, out_features=1, bias=True)\n",
              "  )\n",
              ")"
            ]
          },
          "metadata": {},
          "execution_count": 7
        }
      ]
    },
    {
      "cell_type": "code",
      "source": [
        "from collections import defaultdict\n",
        "import torch\n",
        "\n",
        "def build_first_association_map(src_nodes, dst_nodes):\n",
        "    \"\"\"Build a mapping from patient to first associated node (disease/procedure/lab).\"\"\"\n",
        "    assoc_map = {}\n",
        "    for src, dst in zip(src_nodes.tolist(), dst_nodes.tolist()):\n",
        "        if src not in assoc_map:\n",
        "            assoc_map[src] = dst\n",
        "    return assoc_map\n",
        "\n",
        "def get_first_associated_node(assoc_map, patient_ids, default_val=-1):\n",
        "    \"\"\"Return first associated node for each patient in patient_ids.\"\"\"\n",
        "    return torch.tensor(\n",
        "        [assoc_map.get(pid.item(), default_val) for pid in patient_ids],\n",
        "        dtype=torch.long\n",
        "    )"
      ],
      "metadata": {
        "id": "iJtGw7AGCY6f"
      },
      "execution_count": null,
      "outputs": []
    },
    {
      "cell_type": "code",
      "source": [
        "# Build once before training\n",
        "edge_pd = data[\"patient\", \"has_disease\", \"disease\"].edge_index\n",
        "edge_pp = data[\"patient\", \"underwent\", \"procedure\"].edge_index\n",
        "edge_pl = data[\"patient\", \"has_lab\", \"lab\"].edge_index\n",
        "\n",
        "disease_map = build_first_association_map(edge_pd[0], edge_pd[1])\n",
        "procedure_map = build_first_association_map(edge_pp[0], edge_pp[1])\n",
        "lab_map = build_first_association_map(edge_pl[0], edge_pl[1])"
      ],
      "metadata": {
        "id": "mhjx4NRQCj_z"
      },
      "execution_count": null,
      "outputs": []
    },
    {
      "cell_type": "code",
      "source": [
        "# Step 1: Get node embeddings\n",
        "with torch.no_grad():\n",
        "    z_dict = model(data.x_dict, data.edge_index_dict)"
      ],
      "metadata": {
        "id": "9rpuDV0hE-d_"
      },
      "execution_count": null,
      "outputs": []
    },
    {
      "cell_type": "code",
      "source": [
        "# Example: predict score for patient node 42 and medication nodes 0-9\n",
        "patient_id = 1500\n",
        "num_meds = z_dict[\"medication\"].shape[0]\n",
        "med_ids = torch.arange(num_meds).to(device)\n",
        "\n",
        "# Step 2: Replace patient embeddings using the patient_encoder MLP\n",
        "patient_features = data[\"patient\"].x.to(device)\n",
        "z_dict[\"patient\"] = model.encode_patient(patient_features)  # <-- Encoder used here\n",
        "\n",
        "# Repeat patient_id N times (same length as med_ids)\n",
        "patients = torch.tensor([patient_id] * len(med_ids), device=device)\n",
        "\n",
        "edge_index = torch.stack([\n",
        "    torch.full_like(med_ids, fill_value=patient_id),  # source: patient\n",
        "    med_ids                                           # destination: meds\n",
        "], dim=0)\n",
        "\n",
        "disease_ids   = get_first_associated_node(disease_map, patients)\n",
        "procedure_ids = get_first_associated_node(procedure_map, patients)\n",
        "lab_ids       = get_first_associated_node(lab_map, patients)\n",
        "\n",
        "# Predict\n",
        "with torch.no_grad():\n",
        "    scores = model.decode(\n",
        "        z_patient     = z_dict[\"patient\"],\n",
        "        z_medication  = z_dict[\"medication\"],\n",
        "        z_disease     = z_dict[\"disease\"],\n",
        "        z_procedure   = z_dict[\"procedure\"],\n",
        "        z_lab         = z_dict[\"lab\"],\n",
        "        edge_index    = edge_index,\n",
        "        disease_ids   = disease_ids,\n",
        "        procedure_ids = procedure_ids,\n",
        "        lab_ids       = lab_ids\n",
        "    )\n",
        "    probs = torch.sigmoid(scores)"
      ],
      "metadata": {
        "id": "4zez0oUNCd8L"
      },
      "execution_count": null,
      "outputs": []
    },
    {
      "cell_type": "code",
      "source": [
        "topk = 15\n",
        "top_indices = probs.topk(topk).indices\n",
        "recommended_meds = med_ids[top_indices].cpu().numpy()\n",
        "\n",
        "print(\"Recommended Medication IDs:\", recommended_meds)"
      ],
      "metadata": {
        "colab": {
          "base_uri": "https://localhost:8080/"
        },
        "id": "wMvCFTiCFHjt",
        "outputId": "988bdf0a-d3b0-4ef9-e26e-b89eb5e5e5c7"
      },
      "execution_count": null,
      "outputs": [
        {
          "output_type": "stream",
          "name": "stdout",
          "text": [
            "Recommended Medication IDs: [  4  11  39   3  85  16   1  50 111 100 104 419  10  17 237]\n"
          ]
        }
      ]
    },
    {
      "cell_type": "markdown",
      "source": [
        "## Get Medications' names"
      ],
      "metadata": {
        "id": "1Ft41WW5HbsZ"
      }
    },
    {
      "cell_type": "code",
      "source": [
        "data_path = \"/content/drive/MyDrive/AIT/ML/Project/personalized_medical_recommendation/preprocessing/processed\""
      ],
      "metadata": {
        "id": "zVat23w9kgWK"
      },
      "execution_count": null,
      "outputs": []
    },
    {
      "cell_type": "code",
      "source": [
        "import json\n",
        "\n",
        "with open(os.path.join(data_path, \"mappings\", \"id_to_medication.json\"), 'r') as file:\n",
        "    med_map = json.load(file)"
      ],
      "metadata": {
        "id": "h2xCzAoFj0hz"
      },
      "execution_count": null,
      "outputs": []
    },
    {
      "cell_type": "code",
      "source": [
        "print(f\"Top {topk} Recommended medications for patient {patient_id}:\\n\")\n",
        "for med_id in recommended_meds:\n",
        "    print(\"-\", med_map[str(med_id)])"
      ],
      "metadata": {
        "colab": {
          "base_uri": "https://localhost:8080/"
        },
        "id": "_cAdya7_k4GN",
        "outputId": "2567f672-73aa-4021-a70b-ef4c0d59481b"
      },
      "execution_count": null,
      "outputs": [
        {
          "output_type": "stream",
          "name": "stdout",
          "text": [
            "Top 15 Recommended medications for patient 1500:\n",
            "\n",
            "- Furosemide\n",
            "- Potassium Chloride\n",
            "- Insulin\n",
            "- D5W\n",
            "- Docusate Sodium\n",
            "- Acetaminophen\n",
            "- Warfarin\n",
            "- Metoprolol\n",
            "- Sodium Chloride 0.9%  Flush\n",
            "- Ranitidine\n",
            "- Milk of Magnesia\n",
            "- Metoprolol Tartrate\n",
            "- Magnesium Sulfate\n",
            "- Oxycodone-Acetaminophen\n",
            "- Syringe\n"
          ]
        }
      ]
    },
    {
      "cell_type": "markdown",
      "source": [
        "## Patient's Condition"
      ],
      "metadata": {
        "id": "Ymr_IHYMHYG3"
      }
    },
    {
      "cell_type": "code",
      "source": [
        "import json\n",
        "\n",
        "with open(os.path.join(data_path, \"mappings\", \"id_to_disease.json\"), \"r\") as f:\n",
        "    disease_mapping = json.load(f)"
      ],
      "metadata": {
        "id": "Aarr9-srGvWO"
      },
      "execution_count": null,
      "outputs": []
    },
    {
      "cell_type": "code",
      "source": [
        "edge_index = data[\"patient\", \"has_disease\", \"disease\"].edge_index\n",
        "\n",
        "# Filter edges where patient is the source\n",
        "mask = edge_index[0] == patient_id\n",
        "disease_ids = edge_index[1][mask].cpu().numpy()\n",
        "disease_ids"
      ],
      "metadata": {
        "id": "P79RZYyeH-yi",
        "colab": {
          "base_uri": "https://localhost:8080/"
        },
        "outputId": "3550d813-04d7-49c4-bb6d-7df0c5b0300c"
      },
      "execution_count": null,
      "outputs": [
        {
          "output_type": "execute_result",
          "data": {
            "text/plain": [
              "array([ 19,   8,  62,  32,   8, 180, 156,  48,  35])"
            ]
          },
          "metadata": {},
          "execution_count": 17
        }
      ]
    },
    {
      "cell_type": "code",
      "source": [
        "print(f\"Conditions of patient {patient_id}:\\n\")\n",
        "for disease_id in disease_ids:\n",
        "    print(\"-\", disease_mapping[str(disease_id)])"
      ],
      "metadata": {
        "colab": {
          "base_uri": "https://localhost:8080/"
        },
        "id": "lIRBAdLhJlmj",
        "outputId": "30e5db83-274e-4d69-e851-db0a319d6f7b"
      },
      "execution_count": null,
      "outputs": [
        {
          "output_type": "stream",
          "name": "stdout",
          "text": [
            "Conditions of patient 1500:\n",
            "\n",
            "- Coronary atherosclerosis and other heart disease\n",
            "- Complications of surgical procedures or medical care\n",
            "- Cardiac dysrhythmias\n",
            "- Pleurisy; pneumothorax; pulmonary collapse\n",
            "- Complications of surgical procedures or medical care\n",
            "- Other hematologic conditions\n",
            "- Acute bronchitis\n",
            "- Thyroid disorders\n",
            "- Essential hypertension\n"
          ]
        }
      ]
    },
    {
      "cell_type": "markdown",
      "source": [
        "## Get Patient's Information"
      ],
      "metadata": {
        "id": "D4haLb-oaJRA"
      }
    },
    {
      "cell_type": "code",
      "source": [
        "# Load saved encoder and scaler\n",
        "encoder = joblib.load(os.path.join(data_path, \"patient_gender_ethnicity_encoder.pkl\"))\n",
        "age_scaler = joblib.load(os.path.join(data_path, \"patient_age_scaler.pkl\"))"
      ],
      "metadata": {
        "id": "BWFNas5bW7O0"
      },
      "execution_count": null,
      "outputs": []
    },
    {
      "cell_type": "code",
      "source": [
        "from sklearn.preprocessing import OneHotEncoder\n",
        "\n",
        "# Assuming feature layout: [scaled_age, onehot_gender, onehot_ethnicity]\n",
        "patient_vector = data[\"patient\"].x[patient_id].cpu().numpy()\n",
        "\n",
        "scaled_age = patient_vector[0:1]\n",
        "encoded_demo = patient_vector[1:]\n",
        "\n",
        "# Recover original age\n",
        "original_age = age_scaler.inverse_transform(scaled_age.reshape(1, -1))[0][0]\n",
        "\n",
        "# Recover gender and ethnicity\n",
        "original_demo = encoder.inverse_transform(encoded_demo.reshape(1, -1))[0]\n",
        "original_gender, original_ethnicity = original_demo\n",
        "\n",
        "print(\"Recovered Info:\")\n",
        "print(\"Age:\", original_age)\n",
        "print(\"Gender:\", original_gender)\n",
        "print(\"Ethnicity:\", original_ethnicity)"
      ],
      "metadata": {
        "colab": {
          "base_uri": "https://localhost:8080/"
        },
        "id": "vgBnooa2W8bQ",
        "outputId": "3e70ce0e-ba1e-421a-ddc5-f59c30364529"
      },
      "execution_count": null,
      "outputs": [
        {
          "output_type": "stream",
          "name": "stdout",
          "text": [
            "Recovered Info:\n",
            "Age: 75.0\n",
            "Gender: 1\n",
            "Ethnicity: 1\n"
          ]
        }
      ]
    },
    {
      "cell_type": "markdown",
      "source": [
        "## Patient's Procedures"
      ],
      "metadata": {
        "id": "MuvwuVH1trHD"
      }
    },
    {
      "cell_type": "code",
      "source": [
        "with open(os.path.join(data_path, \"mappings\", \"id_to_procedure.json\"), \"r\") as f:\n",
        "    procedure_mapping = json.load(f)"
      ],
      "metadata": {
        "id": "pxAIlqdcuA8T"
      },
      "execution_count": null,
      "outputs": []
    },
    {
      "cell_type": "code",
      "source": [
        "# Step 1: Get edge index for \"underwent\" relation\n",
        "edge_index_proc = data[\"patient\", \"underwent\", \"procedure\"].edge_index\n",
        "\n",
        "# Step 2: Filter where patient is the source node\n",
        "mask_proc = edge_index_proc[0] == patient_id\n",
        "\n",
        "# Step 3: Get corresponding procedure IDs (target nodes)\n",
        "procedure_ids = edge_index_proc[1][mask_proc].cpu().numpy()\n",
        "procedure_ids"
      ],
      "metadata": {
        "colab": {
          "base_uri": "https://localhost:8080/"
        },
        "id": "n1DoP9_Ntqzd",
        "outputId": "4bf3565d-7298-408c-8d86-2442dfc05120"
      },
      "execution_count": null,
      "outputs": [
        {
          "output_type": "execute_result",
          "data": {
            "text/plain": [
              "array([ 5,  5,  6, 19, 24, 21,  2])"
            ]
          },
          "metadata": {},
          "execution_count": 22
        }
      ]
    },
    {
      "cell_type": "code",
      "source": [
        "print(f\"Procedures of patient {patient_id}:\\n\")\n",
        "for pid in procedure_ids:\n",
        "    print(\"-\", procedure_mapping[str(pid)])"
      ],
      "metadata": {
        "colab": {
          "base_uri": "https://localhost:8080/"
        },
        "id": "8uOeEgv5uKcd",
        "outputId": "129c829b-2670-4055-e9e4-00ef6965867c"
      },
      "execution_count": null,
      "outputs": [
        {
          "output_type": "stream",
          "name": "stdout",
          "text": [
            "Procedures of patient 1500:\n",
            "\n",
            "- Coronary artery bypass graft (CABG)\n",
            "- Coronary artery bypass graft (CABG)\n",
            "- Extracorporeal circulation auxiliary to open heart procedures\n",
            "- Other OR procedures on vessels other than head and neck\n",
            "- Diagnostic bronchoscopy and biopsy of bronchus\n",
            "- Diagnostic ultrasound of heart (echocardiogram)\n",
            "- Other vascular catheterization; not heart\n"
          ]
        }
      ]
    },
    {
      "cell_type": "markdown",
      "source": [
        "## Get Patient's Lab IDs"
      ],
      "metadata": {
        "id": "zUS8dINbaSIy"
      }
    },
    {
      "cell_type": "code",
      "source": [
        "# Step 1: Get edge index for patient-lab relation\n",
        "edge_index_lab = data[\"patient\", \"has_lab\", \"lab\"].edge_index\n",
        "\n",
        "# Step 2: Filter for edges where the patient is the source\n",
        "mask_lab = edge_index_lab[0] == patient_id\n",
        "\n",
        "# Step 3: Extract corresponding lab node IDs\n",
        "lab_ids = edge_index_lab[1][mask_lab].cpu().numpy()\n",
        "lab_ids"
      ],
      "metadata": {
        "colab": {
          "base_uri": "https://localhost:8080/"
        },
        "id": "Ti2i6pLzaVJZ",
        "outputId": "f2f117c6-3937-4abb-a148-59fe3c10629e"
      },
      "execution_count": null,
      "outputs": [
        {
          "output_type": "execute_result",
          "data": {
            "text/plain": [
              "array([13, 16, 17, 19, 20, 21, 24, 25, 26, 27,  1,  3,  6,  7,  8,  9, 11,\n",
              "       12, 13, 16, 17, 19, 20, 21, 24, 25, 26, 27,  1,  3,  6,  7,  8,  9,\n",
              "       11, 12, 13, 16, 17, 19, 20, 21, 24, 25, 26, 27, 35, 37, 38, 46, 47,\n",
              "       28, 16, 24, 29, 30, 31, 54, 34, 35, 37, 38, 55, 29, 30, 54, 34, 35,\n",
              "       37, 38, 29, 30, 54, 40, 41, 34, 35, 37, 38, 16, 29, 30, 31, 54, 34,\n",
              "       35, 37, 38, 55, 16, 59, 60, 31, 54, 37, 55, 58, 29, 30, 35, 37, 38,\n",
              "        1,  3,  6,  8,  9, 11, 12, 13, 98, 35, 36, 37, 38, 42, 29, 30, 31,\n",
              "       40, 41, 34, 35, 37, 38, 55, 16, 31, 54, 37, 55, 29, 30, 31, 35, 37,\n",
              "       38,  1,  3,  6,  7,  8,  9, 11, 12, 13, 16, 17, 19, 20, 21, 24, 25,\n",
              "       26, 27, 16,  1,  3,  6,  7,  8,  9, 11, 12, 13, 16, 17, 19, 20, 21,\n",
              "       24, 25, 26, 27,  1,  3,  5,  6,  7,  8,  9, 11, 12, 56, 29, 30, 31,\n",
              "       54, 40, 41, 33, 35, 37, 38, 55, 57, 58, 39, 53, 46, 24, 47, 28, 16,\n",
              "       46, 24, 47, 28, 29, 30, 31, 54, 35, 37, 38, 55, 29, 30, 54, 34, 35,\n",
              "       37, 38, 11, 16, 24, 29, 30, 31, 35, 48, 49,  0, 50,  1,  2,  3,  4,\n",
              "        5,  6,  7,  8,  9, 10, 11, 12, 13, 16, 17, 46, 19, 20, 21, 24, 47,\n",
              "       28, 25, 26, 27, 72, 74, 37, 38,  8, 11, 16,  1,  3,  6,  7,  8,  9,\n",
              "       11, 12, 13, 16, 17, 19, 20, 21, 24, 25, 26, 62, 14, 15, 16, 17, 46,\n",
              "       18, 19, 20, 21, 22, 23, 24, 47, 28, 25, 26, 27,  7, 29, 30, 31, 54,\n",
              "       33, 34, 35, 37, 38, 55, 29, 30, 31, 54, 34, 35, 37, 38, 55, 16,  1,\n",
              "        3,  6,  7,  8, 11, 12, 13, 16, 17, 19, 20, 21, 24, 25, 26, 27, 29,\n",
              "       30, 31, 34, 35, 37, 38, 29, 30, 27, 29, 30, 31, 29, 30, 31, 54, 40,\n",
              "       41, 35, 37, 38, 55, 58, 39, 29, 30, 54, 35, 37, 38, 55, 29, 30, 54,\n",
              "       35, 37, 38, 55, 29, 30, 54, 35, 37, 38, 55, 29, 30, 31, 54, 40, 41,\n",
              "       35, 37, 38, 55, 58, 53, 46, 24, 47, 28, 56, 29, 30, 31, 54, 40, 41,\n",
              "       33, 35, 37, 38, 55, 57, 58, 39])"
            ]
          },
          "metadata": {},
          "execution_count": 24
        }
      ]
    },
    {
      "cell_type": "markdown",
      "source": [
        "## New Patient"
      ],
      "metadata": {
        "id": "1ByZWCw6L9l_"
      }
    },
    {
      "cell_type": "markdown",
      "source": [
        "### Add Disease Node"
      ],
      "metadata": {
        "id": "OWWoz5uXOx4X"
      }
    },
    {
      "cell_type": "code",
      "source": [
        "import pandas as pd\n",
        "\n",
        "# Load saved encoder and scaler\n",
        "encoder = joblib.load(os.path.join(data_path, \"patient_gender_ethnicity_encoder.pkl\"))\n",
        "age_scaler = joblib.load(os.path.join(data_path, \"patient_age_scaler.pkl\"))\n",
        "\n",
        "# New patient info (Input)\n",
        "gender = 0\n",
        "ethnicity = 1\n",
        "age = 0\n",
        "\n",
        "# Wrap in DataFrames to preserve feature names\n",
        "new_patient_demo = pd.DataFrame([[gender, ethnicity]], columns=[\"gender\", \"ethnicity\"])\n",
        "new_patient_age = pd.DataFrame([[age]], columns=[\"age\"])\n",
        "\n",
        "# Transform using fitted encoders\n",
        "encoded_demo = encoder.transform(new_patient_demo)\n",
        "scaled_age = age_scaler.transform(new_patient_age)\n",
        "\n",
        "# Concatenate into feature vector\n",
        "new_patient_features = np.hstack([scaled_age, encoded_demo])\n",
        "new_patient_features.shape"
      ],
      "metadata": {
        "id": "6icAMSF4Jn1t",
        "colab": {
          "base_uri": "https://localhost:8080/"
        },
        "outputId": "76bd458b-6d91-4a4e-cde2-dd00a5014c52"
      },
      "execution_count": null,
      "outputs": [
        {
          "output_type": "execute_result",
          "data": {
            "text/plain": [
              "(1, 44)"
            ]
          },
          "metadata": {},
          "execution_count": 25
        }
      ]
    },
    {
      "cell_type": "code",
      "source": [
        "from torch_geometric.transforms import ToUndirected\n",
        "\n",
        "# Context mapping builders\n",
        "def build_first_association_map(patient_nodes, context_nodes):\n",
        "    # patient_nodes and context_nodes are tensors\n",
        "    mapping = {}\n",
        "    for p, c in zip(patient_nodes.tolist(), context_nodes.tolist()):\n",
        "        if p not in mapping:\n",
        "            mapping[p] = c\n",
        "    return mapping\n",
        "\n",
        "# Lookup functions for context\n",
        "def get_first_associated_node(context_map, patient_ids):\n",
        "    return torch.tensor([context_map.get(pid.item(), 0) for pid in patient_ids], dtype=torch.long).to(patient_ids.device)\n",
        "\n",
        "\n",
        "def predict_with_node_addition(\n",
        "    model,\n",
        "    data,\n",
        "    new_patient_features,     # shape: [1, input_dim]\n",
        "    disease_ids,              # list or tensor of disease node indices\n",
        "    procedure_ids,            # list or tensor of procedure node indices\n",
        "    lab_ids,                  # list or tensor of lab node indices\n",
        "    disease_map_fn,           # function to build disease_map\n",
        "    procedure_map_fn,         # function to build procedure_map\n",
        "    lab_map_fn,               # function to build lab_map\n",
        "    med_map,                  # medication ID to name mapping\n",
        "    device,\n",
        "    topk=10\n",
        "):\n",
        "    model.eval()\n",
        "    with torch.no_grad():\n",
        "        # Step 1: Clone the original graph to avoid mutation\n",
        "        inference_data = data.clone()\n",
        "\n",
        "        # Step 2: Assign new patient ID\n",
        "        new_patient_tensor = torch.tensor(new_patient_features, dtype=torch.float).to(device)\n",
        "        new_patient_id = inference_data[\"patient\"].x.shape[0]\n",
        "\n",
        "        # Step 3: Add patient node\n",
        "        inference_data[\"patient\"].x = torch.cat(\n",
        "            [inference_data[\"patient\"].x, new_patient_tensor], dim=0\n",
        "        )\n",
        "\n",
        "        # Step 4: Add edges\n",
        "        def add_edges(edge_type, target_ids):\n",
        "            edge_index = torch.stack([\n",
        "                torch.full((len(target_ids),), new_patient_id, dtype=torch.long),  # source\n",
        "                torch.tensor(target_ids, dtype=torch.long)\n",
        "            ], dim=0).to(device)\n",
        "            inference_data[edge_type].edge_index = torch.cat([\n",
        "                inference_data[edge_type].edge_index.to(device),\n",
        "                edge_index\n",
        "            ], dim=1)\n",
        "\n",
        "        add_edges((\"patient\", \"has_disease\", \"disease\"), disease_ids)\n",
        "        add_edges((\"patient\", \"underwent\", \"procedure\"), procedure_ids)\n",
        "        add_edges((\"patient\", \"has_lab\", \"lab\"), lab_ids)\n",
        "\n",
        "        # Step 5: Reapply ToUndirected to get reverse edges\n",
        "        inference_data = ToUndirected()(inference_data)\n",
        "\n",
        "        # Step 6: Rebuild context maps\n",
        "        disease_map = disease_map_fn(\n",
        "            inference_data[\"patient\", \"has_disease\", \"disease\"].edge_index[0],\n",
        "            inference_data[\"patient\", \"has_disease\", \"disease\"].edge_index[1]\n",
        "        )\n",
        "        procedure_map = procedure_map_fn(\n",
        "            inference_data[\"patient\", \"underwent\", \"procedure\"].edge_index[0],\n",
        "            inference_data[\"patient\", \"underwent\", \"procedure\"].edge_index[1]\n",
        "        )\n",
        "        lab_map = lab_map_fn(\n",
        "            inference_data[\"patient\", \"has_lab\", \"lab\"].edge_index[0],\n",
        "            inference_data[\"patient\", \"has_lab\", \"lab\"].edge_index[1]\n",
        "        )\n",
        "\n",
        "        # Step 7: Forward pass\n",
        "        z_dict = model(inference_data.x_dict, inference_data.edge_index_dict)\n",
        "\n",
        "        # Replace patient embeddings using the patient_encoder MLP\n",
        "        patient_features = inference_data[\"patient\"].x.to(device)\n",
        "        z_dict[\"patient\"] = model.encode_patient(patient_features)  # <-- Encoder used here\n",
        "\n",
        "        num_meds = z_dict[\"medication\"].shape[0]\n",
        "        med_ids = torch.arange(num_meds).to(device)\n",
        "        patients = torch.full((num_meds,), new_patient_id, dtype=torch.long).to(device)\n",
        "\n",
        "        edge_index = torch.stack([patients, med_ids], dim=0)\n",
        "\n",
        "        disease_ids_batch   = get_first_associated_node(disease_map, patients)\n",
        "        procedure_ids_batch = get_first_associated_node(procedure_map, patients)\n",
        "        lab_ids_batch       = get_first_associated_node(lab_map, patients)\n",
        "\n",
        "        # Step 8: Decode predictions\n",
        "        scores = model.decode(\n",
        "            z_patient     = z_dict[\"patient\"],\n",
        "            z_medication  = z_dict[\"medication\"],\n",
        "            z_disease     = z_dict[\"disease\"],\n",
        "            z_procedure   = z_dict[\"procedure\"],\n",
        "            z_lab         = z_dict[\"lab\"],\n",
        "            edge_index    = edge_index,\n",
        "            disease_ids   = disease_ids_batch,\n",
        "            procedure_ids = procedure_ids_batch,\n",
        "            lab_ids       = lab_ids_batch\n",
        "        )\n",
        "\n",
        "        probs = torch.sigmoid(scores)\n",
        "\n",
        "        # Step 9: Top-k results\n",
        "        top_indices = probs.topk(topk).indices\n",
        "        recommended_med_ids = med_ids[top_indices].cpu().numpy()\n",
        "        top_scores = probs[top_indices].cpu().numpy()\n",
        "\n",
        "        print(f\"\\nTop {topk} Recommended Medications for Patient {new_patient_id}:\\n\")\n",
        "        for med_id, score in zip(recommended_med_ids, top_scores):\n",
        "            print(f\"- {med_map[str(med_id)]}: {score:.4f}\")\n",
        "\n",
        "        return recommended_med_ids, top_scores"
      ],
      "metadata": {
        "id": "sJ3lENSYpkbI"
      },
      "execution_count": null,
      "outputs": []
    },
    {
      "cell_type": "code",
      "source": [
        "recommendations, scores = predict_with_node_addition(\n",
        "    model=model,\n",
        "    data=data,\n",
        "    new_patient_features=new_patient_features,\n",
        "    disease_ids=disease_ids,\n",
        "    procedure_ids=procedure_ids,\n",
        "    lab_ids=lab_ids,\n",
        "    disease_map_fn=build_first_association_map,\n",
        "    procedure_map_fn=build_first_association_map,\n",
        "    lab_map_fn=build_first_association_map,\n",
        "    med_map=med_map,  # {\"0\": \"Drug A\", ...}\n",
        "    device=device,\n",
        "    topk=15\n",
        ")"
      ],
      "metadata": {
        "colab": {
          "base_uri": "https://localhost:8080/"
        },
        "id": "vdwHMvwCp16C",
        "outputId": "552a444b-5506-4a26-e220-ca68aae93d6e"
      },
      "execution_count": null,
      "outputs": [
        {
          "output_type": "stream",
          "name": "stdout",
          "text": [
            "\n",
            "Top 15 Recommended Medications for Patient 46520:\n",
            "\n",
            "- Furosemide: 0.9993\n",
            "- Potassium Chloride: 0.9990\n",
            "- Insulin: 0.9988\n",
            "- D5W: 0.9987\n",
            "- Acetaminophen: 0.9985\n",
            "- Docusate Sodium: 0.9983\n",
            "- Sodium Chloride 0.9%  Flush: 0.9981\n",
            "- Metoprolol: 0.9975\n",
            "- Magnesium Sulfate: 0.9973\n",
            "- Warfarin: 0.9972\n",
            "- NS: 0.9970\n",
            "- Heparin Sodium: 0.9966\n",
            "- Iso-Osmotic Dextrose: 0.9965\n",
            "- Bisacodyl: 0.9965\n",
            "- Metoprolol Tartrate: 0.9960\n"
          ]
        }
      ]
    },
    {
      "cell_type": "markdown",
      "source": [
        "| Medication            | Likely Purpose                                                                 | Alignment with Conditions/Procedures       |\n",
        "|-----------------------|-------------------------------------------------------------------------------|--------------------------------------------|\n",
        "| **Furosemide**        | Diuretic for fluid overload (post-CABG, heart disease, hypertension).         | ✅ High relevance.                          |\n",
        "| **Potassium Chloride**| Prevents hypokalemia (common with diuretics like furosemide).                 | ✅ Necessary adjunct.                       |\n",
        "| **Insulin**           | Manages hyperglycemia (stress-induced or pre-existing diabetes post-surgery). | ✅ CABG patients often need glucose control.|\n",
        "| **Metoprolol** (and Tartrate) | Beta-blocker for hypertension, arrhythmias, post-CABG cardioprotection. | ✅ Standard post-CABG.                      |\n",
        "| **Warfarin/Heparin**  | Anticoagulation (post-CABG, vascular procedures, prevent thromboembolism).    | ✅ Critical for vessel patency.             |\n",
        "| **Magnesium Sulfate** | Corrects arrhythmias (e.g., torsades) or deficiency (common post-heart surgery). | ✅ Fits cardiac history.                  |\n",
        "| **Acetaminophen**     | Pain management (safer than NSAIDs post-CABG due to bleeding risks).          | ✅ Appropriate.                            |\n",
        "| **Docusate/Bisacodyl**| Prevents constipation (opioid-induced post-op or due to reduced mobility).    | ✅ Prophylactic measure.                   |\n",
        "| **IV Fluids** (D5W, NS) | Maintain hydration/electrolytes (post-op, NPO status, or hemodynamic support). | ✅ Standard care.                         |"
      ],
      "metadata": {
        "id": "61nG0un_YHRu"
      }
    },
    {
      "cell_type": "code",
      "source": [],
      "metadata": {
        "id": "MAXhRQVGo18_"
      },
      "execution_count": null,
      "outputs": []
    }
  ]
}